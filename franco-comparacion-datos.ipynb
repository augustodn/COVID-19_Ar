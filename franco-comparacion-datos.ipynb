{
 "metadata": {
  "language_info": {
   "codemirror_mode": {
    "name": "ipython",
    "version": 3
   },
   "file_extension": ".py",
   "mimetype": "text/x-python",
   "name": "python",
   "nbconvert_exporter": "python",
   "pygments_lexer": "ipython3",
   "version": 3
  },
  "orig_nbformat": 2
 },
 "nbformat": 4,
 "nbformat_minor": 2,
 "cells": [
  {
   "source": [
    "# Estudio COVID-19\n",
    "Objetivo de este notebook:\n",
    "- Comparar fallecimientos con datos del min de salud y de covid stats ar"
   ],
   "cell_type": "markdown",
   "metadata": {}
  }
 ]
}